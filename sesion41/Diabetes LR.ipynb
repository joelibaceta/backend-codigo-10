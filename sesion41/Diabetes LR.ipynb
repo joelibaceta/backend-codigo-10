{
 "cells": [
  {
   "cell_type": "code",
   "execution_count": 1,
   "id": "780cdaf8",
   "metadata": {},
   "outputs": [],
   "source": [
    "# Importar bibliotecas basicas\n",
    "\n",
    "import numpy as np\n",
    "import pandas as pd\n",
    "import matplotlib.pyplot as plt\n",
    "\n",
    "from sklearn.linear_model import LinearRegression\n",
    "from sklearn import datasets"
   ]
  },
  {
   "cell_type": "code",
   "execution_count": 2,
   "id": "813334ea",
   "metadata": {},
   "outputs": [],
   "source": [
    "# Cargar Datasets\n",
    "\n",
    "diabetes = datasets.load_diabetes()"
   ]
  },
  {
   "cell_type": "code",
   "execution_count": 9,
   "id": "c2bbf129",
   "metadata": {},
   "outputs": [
    {
     "data": {
      "text/plain": [
       "['age', 'sex', 'bmi', 'bp', 's1', 's2', 's3', 's4', 's5', 's6']"
      ]
     },
     "execution_count": 9,
     "metadata": {},
     "output_type": "execute_result"
    }
   ],
   "source": [
    "diabetes.feature_names"
   ]
  },
  {
   "cell_type": "code",
   "execution_count": 11,
   "id": "f13c7d63",
   "metadata": {},
   "outputs": [],
   "source": [
    "# Preparar dataframes\n",
    "\n",
    "from sklearn.model_selection import train_test_split\n",
    "\n",
    "x_train, x_test, y_train, y_test = train_test_split(diabetes.data, diabetes.target, test_size=0.2)"
   ]
  },
  {
   "cell_type": "code",
   "execution_count": 15,
   "id": "b117906c",
   "metadata": {},
   "outputs": [
    {
     "data": {
      "text/plain": [
       "0.5150403815289332"
      ]
     },
     "execution_count": 15,
     "metadata": {},
     "output_type": "execute_result"
    }
   ],
   "source": [
    "# Crear modelo\n",
    "model = LinearRegression()\n",
    "model.fit(x_train, y_train)\n",
    "model.score(x_test, y_test)"
   ]
  },
  {
   "cell_type": "code",
   "execution_count": 16,
   "id": "1b95e694",
   "metadata": {},
   "outputs": [
    {
     "data": {
      "text/plain": [
       "array([  24.57615482, -250.443927  ,  489.2195063 ,  319.36737738,\n",
       "       -924.37655043,  620.96631223,  115.13246461,  133.73301974,\n",
       "        840.27966146,   33.32361632])"
      ]
     },
     "execution_count": 16,
     "metadata": {},
     "output_type": "execute_result"
    }
   ],
   "source": [
    "model.coef_"
   ]
  },
  {
   "cell_type": "code",
   "execution_count": 17,
   "id": "42f59877",
   "metadata": {},
   "outputs": [],
   "source": [
    "y_pred = model.predict(x_test)"
   ]
  },
  {
   "cell_type": "code",
   "execution_count": 18,
   "id": "5908f4dc",
   "metadata": {},
   "outputs": [
    {
     "data": {
      "text/plain": [
       "array([158.37123214, 196.389482  , 190.82988136, 107.16782948,\n",
       "       189.77741039, 183.40923964, 197.19523558, 129.05212491,\n",
       "       231.82915557, 139.3908056 , 250.0229815 ,  77.2456456 ,\n",
       "        51.07914928, 225.90194709, 191.34497411, 236.34513681,\n",
       "       148.25610254, 121.84750438,  79.97151108, 289.46065319,\n",
       "        52.87986038, 132.82311875, 146.56631095,  86.41001994,\n",
       "       100.70789737, 114.42645549, 136.95412612, 131.69364465,\n",
       "       101.83596614, 138.14184954, 159.03081848, 189.03754537,\n",
       "       164.04543067,  38.02218548, 121.05122022,  99.55632476,\n",
       "        67.01531053, 186.87041844, 127.86042551, 178.32154693,\n",
       "       191.3093116 ,  84.43741694, 166.85949008, 262.61814322,\n",
       "       178.43327285, 157.27735042, 188.29006268,  88.3274909 ,\n",
       "       194.77675277,  71.33465167, 137.47948485, 159.82244688,\n",
       "       184.93568739,  53.38684131, 191.69621845, 251.22153467,\n",
       "       167.91057756, 185.1312324 , 244.37135993, 235.3826604 ,\n",
       "       140.44974366, 143.65605854,  67.52046784,  94.38454441,\n",
       "       160.10438876, 176.61843064, 163.24415343, 111.89378923,\n",
       "       123.4711065 , 129.50578015, 220.18684391,  71.60616955,\n",
       "       160.92130513, 115.13998191, 111.95761076,  97.53519295,\n",
       "       241.02621357, 141.67232784, 237.43183756, 147.72920416,\n",
       "        70.37306293, 155.13318357, 223.01583465,  54.79849895,\n",
       "        87.45653634, 123.40546106, 164.62679531, 147.06178728,\n",
       "        80.2267819 ])"
      ]
     },
     "execution_count": 18,
     "metadata": {},
     "output_type": "execute_result"
    }
   ],
   "source": [
    "y_pred"
   ]
  },
  {
   "cell_type": "code",
   "execution_count": 21,
   "id": "1de6e31b",
   "metadata": {},
   "outputs": [
    {
     "data": {
      "image/png": "[encoded data removed]",
      "text/plain": [
       "<Figure size 432x288 with 1 Axes>"
      ]
     },
     "metadata": {
      "needs_background": "light"
     },
     "output_type": "display_data"
    }
   ],
   "source": [
    "# Dibujar prediccion vs datos reales\n",
    "\n",
    "plt.plot(y_test, y_pred, '.')\n",
    "\n",
    "x = np.linspace(0, 330, 100)\n",
    "y = x \n",
    "plt.plot(x,y)\n",
    "plt.show()"
   ]
  },
  {
   "cell_type": "code",
   "execution_count": null,
   "id": "0be81b52",
   "metadata": {},
   "outputs": [],
   "source": []
  }
 ],
 "metadata": {
  "kernelspec": {
   "display_name": "Python 3 (ipykernel)",
   "language": "python",
   "name": "python3"
  },
  "language_info": {
   "codemirror_mode": {
    "name": "ipython",
    "version": 3
   },
   "file_extension": ".py",
   "mimetype": "text/x-python",
   "name": "python",
   "nbconvert_exporter": "python",
   "pygments_lexer": "ipython3",
   "version": "3.10.0"
  }
 },
 "nbformat": 4,
 "nbformat_minor": 5
}
